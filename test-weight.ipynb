{
 "cells": [
  {
   "cell_type": "code",
   "execution_count": 41,
   "metadata": {},
   "outputs": [
    {
     "data": {
      "text/html": [
       "<div>\n",
       "<style scoped>\n",
       "    .dataframe tbody tr th:only-of-type {\n",
       "        vertical-align: middle;\n",
       "    }\n",
       "\n",
       "    .dataframe tbody tr th {\n",
       "        vertical-align: top;\n",
       "    }\n",
       "\n",
       "    .dataframe thead th {\n",
       "        text-align: right;\n",
       "    }\n",
       "</style>\n",
       "<table border=\"1\" class=\"dataframe\">\n",
       "  <thead>\n",
       "    <tr style=\"text-align: right;\">\n",
       "      <th></th>\n",
       "      <th>Unnamed: 0</th>\n",
       "      <th>time</th>\n",
       "      <th>hour</th>\n",
       "      <th>dayofweek</th>\n",
       "      <th>month</th>\n",
       "      <th>north</th>\n",
       "      <th>west</th>\n",
       "      <th>east</th>\n",
       "      <th>north2</th>\n",
       "    </tr>\n",
       "  </thead>\n",
       "  <tbody>\n",
       "    <tr>\n",
       "      <th>0</th>\n",
       "      <td>0</td>\n",
       "      <td>01/01/2015 00:00</td>\n",
       "      <td>0</td>\n",
       "      <td>3</td>\n",
       "      <td>1</td>\n",
       "      <td>74997.89833</td>\n",
       "      <td>150417.2000</td>\n",
       "      <td>102972.160000</td>\n",
       "      <td>74997.89833</td>\n",
       "    </tr>\n",
       "    <tr>\n",
       "      <th>1</th>\n",
       "      <td>1</td>\n",
       "      <td>01/01/2015 01:00</td>\n",
       "      <td>1</td>\n",
       "      <td>3</td>\n",
       "      <td>1</td>\n",
       "      <td>74065.07333</td>\n",
       "      <td>144913.8125</td>\n",
       "      <td>98909.105000</td>\n",
       "      <td>74065.07333</td>\n",
       "    </tr>\n",
       "    <tr>\n",
       "      <th>2</th>\n",
       "      <td>2</td>\n",
       "      <td>01/01/2015 02:00</td>\n",
       "      <td>2</td>\n",
       "      <td>3</td>\n",
       "      <td>1</td>\n",
       "      <td>70456.97667</td>\n",
       "      <td>137344.7425</td>\n",
       "      <td>95800.825000</td>\n",
       "      <td>70456.97667</td>\n",
       "    </tr>\n",
       "    <tr>\n",
       "      <th>3</th>\n",
       "      <td>3</td>\n",
       "      <td>01/01/2015 03:00</td>\n",
       "      <td>3</td>\n",
       "      <td>3</td>\n",
       "      <td>1</td>\n",
       "      <td>68705.88000</td>\n",
       "      <td>132415.1700</td>\n",
       "      <td>95027.550000</td>\n",
       "      <td>68705.88000</td>\n",
       "    </tr>\n",
       "    <tr>\n",
       "      <th>4</th>\n",
       "      <td>4</td>\n",
       "      <td>01/01/2015 04:00</td>\n",
       "      <td>4</td>\n",
       "      <td>3</td>\n",
       "      <td>1</td>\n",
       "      <td>68003.73167</td>\n",
       "      <td>131099.4175</td>\n",
       "      <td>95660.950000</td>\n",
       "      <td>68003.73167</td>\n",
       "    </tr>\n",
       "    <tr>\n",
       "      <th>...</th>\n",
       "      <td>...</td>\n",
       "      <td>...</td>\n",
       "      <td>...</td>\n",
       "      <td>...</td>\n",
       "      <td>...</td>\n",
       "      <td>...</td>\n",
       "      <td>...</td>\n",
       "      <td>...</td>\n",
       "      <td>...</td>\n",
       "    </tr>\n",
       "    <tr>\n",
       "      <th>43819</th>\n",
       "      <td>43819</td>\n",
       "      <td>31/12/2019 19:00</td>\n",
       "      <td>19</td>\n",
       "      <td>1</td>\n",
       "      <td>12</td>\n",
       "      <td>95015.29000</td>\n",
       "      <td>159746.4625</td>\n",
       "      <td>117217.765833</td>\n",
       "      <td>95015.29000</td>\n",
       "    </tr>\n",
       "    <tr>\n",
       "      <th>43820</th>\n",
       "      <td>43820</td>\n",
       "      <td>31/12/2019 20:00</td>\n",
       "      <td>20</td>\n",
       "      <td>1</td>\n",
       "      <td>12</td>\n",
       "      <td>91124.51667</td>\n",
       "      <td>151009.1975</td>\n",
       "      <td>112196.498333</td>\n",
       "      <td>91124.51667</td>\n",
       "    </tr>\n",
       "    <tr>\n",
       "      <th>43821</th>\n",
       "      <td>43821</td>\n",
       "      <td>31/12/2019 21:00</td>\n",
       "      <td>21</td>\n",
       "      <td>1</td>\n",
       "      <td>12</td>\n",
       "      <td>87112.68833</td>\n",
       "      <td>147458.2375</td>\n",
       "      <td>110252.860833</td>\n",
       "      <td>87112.68833</td>\n",
       "    </tr>\n",
       "    <tr>\n",
       "      <th>43822</th>\n",
       "      <td>43822</td>\n",
       "      <td>31/12/2019 22:00</td>\n",
       "      <td>22</td>\n",
       "      <td>1</td>\n",
       "      <td>12</td>\n",
       "      <td>81783.57167</td>\n",
       "      <td>146397.9125</td>\n",
       "      <td>106505.581667</td>\n",
       "      <td>81783.57167</td>\n",
       "    </tr>\n",
       "    <tr>\n",
       "      <th>43823</th>\n",
       "      <td>43823</td>\n",
       "      <td>31/12/2019 23:00</td>\n",
       "      <td>23</td>\n",
       "      <td>1</td>\n",
       "      <td>12</td>\n",
       "      <td>80558.02000</td>\n",
       "      <td>142568.7025</td>\n",
       "      <td>102571.543333</td>\n",
       "      <td>80558.02000</td>\n",
       "    </tr>\n",
       "  </tbody>\n",
       "</table>\n",
       "<p>43824 rows × 9 columns</p>\n",
       "</div>"
      ],
      "text/plain": [
       "       Unnamed: 0              time  hour  dayofweek  month        north  \\\n",
       "0               0  01/01/2015 00:00     0          3      1  74997.89833   \n",
       "1               1  01/01/2015 01:00     1          3      1  74065.07333   \n",
       "2               2  01/01/2015 02:00     2          3      1  70456.97667   \n",
       "3               3  01/01/2015 03:00     3          3      1  68705.88000   \n",
       "4               4  01/01/2015 04:00     4          3      1  68003.73167   \n",
       "...           ...               ...   ...        ...    ...          ...   \n",
       "43819       43819  31/12/2019 19:00    19          1     12  95015.29000   \n",
       "43820       43820  31/12/2019 20:00    20          1     12  91124.51667   \n",
       "43821       43821  31/12/2019 21:00    21          1     12  87112.68833   \n",
       "43822       43822  31/12/2019 22:00    22          1     12  81783.57167   \n",
       "43823       43823  31/12/2019 23:00    23          1     12  80558.02000   \n",
       "\n",
       "              west           east       north2  \n",
       "0      150417.2000  102972.160000  74997.89833  \n",
       "1      144913.8125   98909.105000  74065.07333  \n",
       "2      137344.7425   95800.825000  70456.97667  \n",
       "3      132415.1700   95027.550000  68705.88000  \n",
       "4      131099.4175   95660.950000  68003.73167  \n",
       "...            ...            ...          ...  \n",
       "43819  159746.4625  117217.765833  95015.29000  \n",
       "43820  151009.1975  112196.498333  91124.51667  \n",
       "43821  147458.2375  110252.860833  87112.68833  \n",
       "43822  146397.9125  106505.581667  81783.57167  \n",
       "43823  142568.7025  102571.543333  80558.02000  \n",
       "\n",
       "[43824 rows x 9 columns]"
      ]
     },
     "execution_count": 41,
     "metadata": {},
     "output_type": "execute_result"
    }
   ],
   "source": [
    "import pandas as pd\n",
    "\n",
    "df = pd.read_csv(\"copula_testing/scenario_data-aggr/electricload.csv\")\n",
    "df[\"north2\"] = df[\"north\"]\n",
    "df"
   ]
  },
  {
   "cell_type": "code",
   "execution_count": 42,
   "metadata": {},
   "outputs": [
    {
     "data": {
      "text/plain": [
       "['north', 'west', 'east', 'north2']"
      ]
     },
     "execution_count": 42,
     "metadata": {},
     "output_type": "execute_result"
    }
   ],
   "source": [
    "unique_nodes = [c for c in df.columns if c not in [\"Unnamed: 0\", \"time\", \"hour\", \"dayofweek\", \"month\"]]\n",
    "unique_nodes"
   ]
  },
  {
   "cell_type": "code",
   "execution_count": 43,
   "metadata": {},
   "outputs": [
    {
     "data": {
      "text/plain": [
       "19644557717.818855"
      ]
     },
     "execution_count": 43,
     "metadata": {},
     "output_type": "execute_result"
    }
   ],
   "source": [
    "df = df[unique_nodes]\n",
    "total_load = sum([df[c].sum() for c in unique_nodes])\n",
    "total_load"
   ]
  },
  {
   "cell_type": "code",
   "execution_count": 44,
   "metadata": {},
   "outputs": [],
   "source": [
    "weight_multiplier = len(unique_nodes) - 1"
   ]
  },
  {
   "cell_type": "code",
   "execution_count": 45,
   "metadata": {},
   "outputs": [
    {
     "name": "stdout",
     "output_type": "stream",
     "text": [
      "[0.17614519487219135, 0.15718813846114196, 0.12810984063649541, 0.2052234926968379, 0.17614519487219135, 0.15718813846114196]\n"
     ]
    },
    {
     "data": {
      "text/plain": [
       "1.0"
      ]
     },
     "execution_count": 45,
     "metadata": {},
     "output_type": "execute_result"
    }
   ],
   "source": [
    "weights = []\n",
    "for i in range(len(unique_nodes)):\n",
    "    for j in range(i, len(unique_nodes)):\n",
    "        n1 = unique_nodes[i]\n",
    "        n2 = unique_nodes[j]\n",
    "        if n1==n2: \n",
    "            continue\n",
    "        data_x = df[n1]\n",
    "        data_y = df[n2]\n",
    "        weight = (data_x.sum() + data_y.sum()) / (total_load * (weight_multiplier))\n",
    "        weights.append(weight)\n",
    "\n",
    "print(weights)\n",
    "sum(weights)"
   ]
  },
  {
   "cell_type": "code",
   "execution_count": 46,
   "metadata": {},
   "outputs": [
    {
     "data": {
      "text/plain": [
       "3774991737.9063144"
      ]
     },
     "execution_count": 46,
     "metadata": {},
     "output_type": "execute_result"
    }
   ],
   "source": [
    "sum(df[\"north\"])"
   ]
  }
 ],
 "metadata": {
  "kernelspec": {
   "display_name": "empire_env",
   "language": "python",
   "name": "python3"
  },
  "language_info": {
   "codemirror_mode": {
    "name": "ipython",
    "version": 3
   },
   "file_extension": ".py",
   "mimetype": "text/x-python",
   "name": "python",
   "nbconvert_exporter": "python",
   "pygments_lexer": "ipython3",
   "version": "3.12.0"
  }
 },
 "nbformat": 4,
 "nbformat_minor": 2
}

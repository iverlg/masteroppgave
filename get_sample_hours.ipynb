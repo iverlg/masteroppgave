{
 "cells": [
  {
   "cell_type": "code",
   "execution_count": 11,
   "metadata": {},
   "outputs": [],
   "source": [
    "import pandas as pd\n",
    "from collections import defaultdict\n",
    "\n",
    "\n",
    "df = pd.read_csv(\"sampling_key-test.csv\", header=1)[[\"Period\", \"Scenario\", \"Season\", \"Year\", \"Hour\"]]\n",
    "df = df[df[\"Period\"] == 1]\n",
    "\n",
    "result = defaultdict(dict)"
   ]
  },
  {
   "cell_type": "code",
   "execution_count": 12,
   "metadata": {},
   "outputs": [
    {
     "data": {
      "text/plain": [
       "{2015: {'winter': [], 'spring': [], 'summer': [], 'fall': [], 'peak': []},\n",
       " 2016: {'winter': [], 'spring': [], 'summer': [], 'fall': [], 'peak': []},\n",
       " 2017: {'winter': [], 'spring': [], 'summer': [], 'fall': [], 'peak': []},\n",
       " 2019: {'winter': [], 'spring': [], 'summer': [], 'fall': [], 'peak': []},\n",
       " 2018: {'winter': [], 'spring': [], 'summer': [], 'fall': [], 'peak': []}}"
      ]
     },
     "execution_count": 12,
     "metadata": {},
     "output_type": "execute_result"
    }
   ],
   "source": [
    "for y in df[\"Year\"].unique():\n",
    "    for s in df[\"Season\"].unique():\n",
    "        result[y][s] = []\n",
    "\n",
    "result = dict(result)\n",
    "result"
   ]
  },
  {
   "cell_type": "code",
   "execution_count": 13,
   "metadata": {},
   "outputs": [
    {
     "data": {
      "text/plain": [
       "{2015: {'winter': [96,\n",
       "   264,\n",
       "   432,\n",
       "   600,\n",
       "   768,\n",
       "   936,\n",
       "   1104,\n",
       "   1272,\n",
       "   1440,\n",
       "   1608,\n",
       "   1776,\n",
       "   1944],\n",
       "  'spring': [120, 288, 456, 624, 792, 960, 1128, 1296, 1464, 1632, 1800, 1968],\n",
       "  'summer': [120, 288, 456, 624, 792, 960, 1128, 1296, 1464, 1632, 1800, 1968],\n",
       "  'fall': [96, 264, 432, 600, 768, 936, 1104, 1272, 1440, 1608, 1776, 1944],\n",
       "  'peak': [0, 0, 0, 0, 0, 0, 0, 0, 0, 0, 0, 0, 0, 0]},\n",
       " 2016: {'winter': [72,\n",
       "   240,\n",
       "   408,\n",
       "   576,\n",
       "   744,\n",
       "   912,\n",
       "   1080,\n",
       "   1248,\n",
       "   1416,\n",
       "   1584,\n",
       "   1752,\n",
       "   1920],\n",
       "  'spring': [72, 240, 408, 576, 744, 912, 1080, 1248, 1416, 1584, 1752, 1920],\n",
       "  'summer': [72, 240, 408, 576, 744, 912, 1080, 1248, 1416, 1584, 1752, 1920],\n",
       "  'fall': [48, 216, 384, 552, 720, 888, 1056, 1224, 1392, 1560, 1728, 1896],\n",
       "  'peak': [0, 0, 0, 0, 0, 0, 0, 0, 0, 0, 0, 0, 0, 0, 0, 0, 0, 0]},\n",
       " 2017: {'winter': [24,\n",
       "   192,\n",
       "   360,\n",
       "   528,\n",
       "   696,\n",
       "   864,\n",
       "   1032,\n",
       "   1200,\n",
       "   1368,\n",
       "   1536,\n",
       "   1704,\n",
       "   1872],\n",
       "  'spring': [48, 216, 384, 552, 720, 888, 1056, 1224, 1392, 1560, 1728, 1896],\n",
       "  'summer': [48, 216, 384, 552, 720, 888, 1056, 1224, 1392, 1560, 1728, 1896],\n",
       "  'fall': [24, 192, 360, 528, 696, 864, 1032, 1200, 1368, 1536, 1704, 1872],\n",
       "  'peak': [0, 0, 0, 0, 0, 0]},\n",
       " 2019: {'winter': [144, 312, 480, 648, 816, 984, 1152, 1320, 1488, 1656, 1824],\n",
       "  'spring': [0, 168, 336, 504, 672, 840, 1008, 1176, 1344, 1512, 1680],\n",
       "  'summer': [0, 168, 336, 504, 672, 840, 1008, 1176, 1344, 1512, 1680],\n",
       "  'fall': [144, 312, 480, 648, 816, 984, 1152, 1320, 1488, 1656],\n",
       "  'peak': [0, 0, 0, 0, 0, 0, 0, 0, 0]},\n",
       " 2018: {'winter': [0,\n",
       "   168,\n",
       "   336,\n",
       "   504,\n",
       "   672,\n",
       "   840,\n",
       "   1008,\n",
       "   1176,\n",
       "   1344,\n",
       "   1512,\n",
       "   1680,\n",
       "   1848],\n",
       "  'spring': [24, 192, 360, 528, 696, 864, 1032, 1200, 1368, 1536, 1704, 1872],\n",
       "  'summer': [24, 192, 360, 528, 696, 864, 1032, 1200, 1368, 1536, 1704, 1872],\n",
       "  'fall': [0,\n",
       "   168,\n",
       "   336,\n",
       "   504,\n",
       "   672,\n",
       "   840,\n",
       "   1008,\n",
       "   1176,\n",
       "   1344,\n",
       "   1512,\n",
       "   1680,\n",
       "   1848,\n",
       "   2016],\n",
       "  'peak': [0, 0, 0, 0, 0, 0, 0, 0, 0, 0, 0, 0]}}"
      ]
     },
     "execution_count": 13,
     "metadata": {},
     "output_type": "execute_result"
    }
   ],
   "source": [
    "for _, row in df.iterrows():\n",
    "    result[row[\"Year\"]][row[\"Season\"]].append(row[\"Hour\"])\n",
    "\n",
    "result"
   ]
  }
 ],
 "metadata": {
  "kernelspec": {
   "display_name": "empire_env",
   "language": "python",
   "name": "python3"
  },
  "language_info": {
   "codemirror_mode": {
    "name": "ipython",
    "version": 3
   },
   "file_extension": ".py",
   "mimetype": "text/x-python",
   "name": "python",
   "nbconvert_exporter": "python",
   "pygments_lexer": "ipython3",
   "version": "3.12.0"
  }
 },
 "nbformat": 4,
 "nbformat_minor": 2
}
